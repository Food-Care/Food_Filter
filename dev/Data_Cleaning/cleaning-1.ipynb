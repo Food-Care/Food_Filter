{
 "cells": [
  {
   "cell_type": "code",
   "execution_count": null,
   "id": "c4d41c3a",
   "metadata": {},
   "outputs": [
    {
     "name": "stdout",
     "output_type": "stream",
     "text": [
      "Collecting openpyxl\n",
      "  Downloading openpyxl-3.1.5-py2.py3-none-any.whl.metadata (2.5 kB)\n",
      "Collecting et-xmlfile (from openpyxl)\n",
      "  Downloading et_xmlfile-2.0.0-py3-none-any.whl.metadata (2.7 kB)\n",
      "Downloading openpyxl-3.1.5-py2.py3-none-any.whl (250 kB)\n",
      "Downloading et_xmlfile-2.0.0-py3-none-any.whl (18 kB)\n",
      "Installing collected packages: et-xmlfile, openpyxl\n",
      "Successfully installed et-xmlfile-2.0.0 openpyxl-3.1.5\n"
     ]
    },
    {
     "name": "stderr",
     "output_type": "stream",
     "text": [
      "\n",
      "[notice] A new release of pip is available: 24.3.1 -> 25.2\n",
      "[notice] To update, run: python.exe -m pip install --upgrade pip\n"
     ]
    }
   ],
   "source": [
    "#pip install pandas\n",
    "#!pip install openpyxl"
   ]
  },
  {
   "cell_type": "code",
   "execution_count": 21,
   "id": "189dc131",
   "metadata": {},
   "outputs": [],
   "source": [
    "import pandas as pd\n",
    "\n",
    "path_food  = \"./development/Food_Filter/dev/Data_Storage/원시 데이터/전체_식품데이터.xlsx\"\n",
    "path_check = \"./development/Food_Filter/dev/Data_Storage/목록 확인용/원재료_목록_확인용.xlsx\"\n",
    "path_final = \"./development/Food_Filter/dev/Data_Storage/목록 확인용/원재료_목록_최종.xlsx\"\n",
    "\n",
    "df_food  = pd.read_excel(path_food)\n",
    "df_check = pd.read_excel(path_check)\n",
    "df_final = pd.read_excel(path_final)\n"
   ]
  },
  {
   "cell_type": "code",
   "execution_count": 26,
   "id": "7c808c9a",
   "metadata": {},
   "outputs": [
    {
     "name": "stdout",
     "output_type": "stream",
     "text": [
      "원시\n"
     ]
    },
    {
     "data": {
      "text/html": [
       "<div>\n",
       "<style scoped>\n",
       "    .dataframe tbody tr th:only-of-type {\n",
       "        vertical-align: middle;\n",
       "    }\n",
       "\n",
       "    .dataframe tbody tr th {\n",
       "        vertical-align: top;\n",
       "    }\n",
       "\n",
       "    .dataframe thead th {\n",
       "        text-align: right;\n",
       "    }\n",
       "</style>\n",
       "<table border=\"1\" class=\"dataframe\">\n",
       "  <thead>\n",
       "    <tr style=\"text-align: right;\">\n",
       "      <th></th>\n",
       "      <th>PRDLST_REPORT_NO</th>\n",
       "      <th>PRMS_DT</th>\n",
       "      <th>LCNS_NO</th>\n",
       "      <th>PRDLST_NM</th>\n",
       "      <th>BSSH_NM</th>\n",
       "      <th>PRDLST_DCNM</th>\n",
       "      <th>CHNG_DT</th>\n",
       "      <th>RAWMTRL_NM</th>\n",
       "    </tr>\n",
       "  </thead>\n",
       "  <tbody>\n",
       "    <tr>\n",
       "      <th>0</th>\n",
       "      <td>1990045801682</td>\n",
       "      <td>20060110</td>\n",
       "      <td>19900458016</td>\n",
       "      <td>NHY 구운어묵</td>\n",
       "      <td>정광푸드</td>\n",
       "      <td>어묵</td>\n",
       "      <td>20160706</td>\n",
       "      <td>냉동연육, 전분, 밀가루, 정제염, 소르빈산칼륨, 글루코노-δ-락톤, L-글루타민산...</td>\n",
       "    </tr>\n",
       "    <tr>\n",
       "      <th>1</th>\n",
       "      <td>2021049625025</td>\n",
       "      <td>20241112</td>\n",
       "      <td>20210496250</td>\n",
       "      <td>VASAK 연근•참깨 김부각</td>\n",
       "      <td>(주)춘향골식품</td>\n",
       "      <td>조미김</td>\n",
       "      <td>20250402</td>\n",
       "      <td>파래김, 찹쌀, 참깨, 콩기름(대두유), 천일염, 연근, 새우분말, 귀리분말, 다시...</td>\n",
       "    </tr>\n",
       "  </tbody>\n",
       "</table>\n",
       "</div>"
      ],
      "text/plain": [
       "   PRDLST_REPORT_NO   PRMS_DT      LCNS_NO        PRDLST_NM   BSSH_NM  \\\n",
       "0     1990045801682  20060110  19900458016         NHY 구운어묵      정광푸드   \n",
       "1     2021049625025  20241112  20210496250  VASAK 연근•참깨 김부각  (주)춘향골식품   \n",
       "\n",
       "  PRDLST_DCNM   CHNG_DT                                         RAWMTRL_NM  \n",
       "0          어묵  20160706  냉동연육, 전분, 밀가루, 정제염, 소르빈산칼륨, 글루코노-δ-락톤, L-글루타민산...  \n",
       "1         조미김  20250402  파래김, 찹쌀, 참깨, 콩기름(대두유), 천일염, 연근, 새우분말, 귀리분말, 다시...  "
      ]
     },
     "metadata": {},
     "output_type": "display_data"
    },
    {
     "name": "stdout",
     "output_type": "stream",
     "text": [
      "원재료 최종\n"
     ]
    },
    {
     "data": {
      "text/html": [
       "<div>\n",
       "<style scoped>\n",
       "    .dataframe tbody tr th:only-of-type {\n",
       "        vertical-align: middle;\n",
       "    }\n",
       "\n",
       "    .dataframe tbody tr th {\n",
       "        vertical-align: top;\n",
       "    }\n",
       "\n",
       "    .dataframe thead th {\n",
       "        text-align: right;\n",
       "    }\n",
       "</style>\n",
       "<table border=\"1\" class=\"dataframe\">\n",
       "  <thead>\n",
       "    <tr style=\"text-align: right;\">\n",
       "      <th></th>\n",
       "      <th>원재료명</th>\n",
       "    </tr>\n",
       "  </thead>\n",
       "  <tbody>\n",
       "    <tr>\n",
       "      <th>0</th>\n",
       "      <td>#36006카다몬스텐다드</td>\n",
       "    </tr>\n",
       "    <tr>\n",
       "      <th>1</th>\n",
       "      <td>-2-부타논</td>\n",
       "    </tr>\n",
       "  </tbody>\n",
       "</table>\n",
       "</div>"
      ],
      "text/plain": [
       "            원재료명\n",
       "0  #36006카다몬스텐다드\n",
       "1         -2-부타논"
      ]
     },
     "metadata": {},
     "output_type": "display_data"
    },
    {
     "name": "stdout",
     "output_type": "stream",
     "text": [
      "원재료 체크\n"
     ]
    },
    {
     "data": {
      "text/html": [
       "<div>\n",
       "<style scoped>\n",
       "    .dataframe tbody tr th:only-of-type {\n",
       "        vertical-align: middle;\n",
       "    }\n",
       "\n",
       "    .dataframe tbody tr th {\n",
       "        vertical-align: top;\n",
       "    }\n",
       "\n",
       "    .dataframe thead th {\n",
       "        text-align: right;\n",
       "    }\n",
       "</style>\n",
       "<table border=\"1\" class=\"dataframe\">\n",
       "  <thead>\n",
       "    <tr style=\"text-align: right;\">\n",
       "      <th></th>\n",
       "      <th>원재료명</th>\n",
       "    </tr>\n",
       "  </thead>\n",
       "  <tbody>\n",
       "    <tr>\n",
       "      <th>0</th>\n",
       "      <td>#36006카다몬스텐다드</td>\n",
       "    </tr>\n",
       "    <tr>\n",
       "      <th>1</th>\n",
       "      <td>-2-부타논</td>\n",
       "    </tr>\n",
       "  </tbody>\n",
       "</table>\n",
       "</div>"
      ],
      "text/plain": [
       "            원재료명\n",
       "0  #36006카다몬스텐다드\n",
       "1         -2-부타논"
      ]
     },
     "metadata": {},
     "output_type": "display_data"
    }
   ],
   "source": [
    "print(\"원시\")\n",
    "display(df_food.head(2))\n",
    "print(\"원재료 최종\")\n",
    "display(df_final.head(2))\n",
    "print(\"원재료 체크\")\n",
    "display(df_check.head(2))"
   ]
  },
  {
   "cell_type": "code",
   "execution_count": null,
   "id": "bb4e7a00",
   "metadata": {},
   "outputs": [],
   "source": []
  }
 ],
 "metadata": {
  "kernelspec": {
   "display_name": "Python 3 (ipykernel)",
   "language": "python",
   "name": "python3"
  },
  "language_info": {
   "codemirror_mode": {
    "name": "ipython",
    "version": 3
   },
   "file_extension": ".py",
   "mimetype": "text/x-python",
   "name": "python",
   "nbconvert_exporter": "python",
   "pygments_lexer": "ipython3",
   "version": "3.13.1"
  }
 },
 "nbformat": 4,
 "nbformat_minor": 5
}
